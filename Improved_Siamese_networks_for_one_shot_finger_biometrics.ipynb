{
  "nbformat": 4,
  "nbformat_minor": 0,
  "metadata": {
    "colab": {
      "name": "Improved_Siamese_networks_for_one_shot_finger_biometrics.ipynb",
      "version": "0.3.2",
      "provenance": [],
      "collapsed_sections": [],
      "include_colab_link": true
    },
    "language_info": {
      "codemirror_mode": {
        "name": "ipython",
        "version": 3
      },
      "file_extension": ".py",
      "mimetype": "text/x-python",
      "name": "python",
      "nbconvert_exporter": "python",
      "pygments_lexer": "ipython3",
      "version": "3.6.5"
    },
    "kernelspec": {
      "name": "python3",
      "display_name": "Python 3"
    },
    "accelerator": "GPU"
  },
  "cells": [
    {
      "cell_type": "markdown",
      "metadata": {
        "id": "view-in-github",
        "colab_type": "text"
      },
      "source": [
        "<a href=\"https://colab.research.google.com/github/connorj4/serial-multibiometric-face-fingerprint/blob/master/Improved_Siamese_networks_for_one_shot_finger_biometrics.ipynb\" target=\"_parent\"><img src=\"https://colab.research.google.com/assets/colab-badge.svg\" alt=\"Open In Colab\"/></a>"
      ]
    },
    {
      "metadata": {
        "id": "0u9x9AQ6Gzun",
        "colab_type": "code",
        "colab": {}
      },
      "cell_type": "code",
      "source": [
        "%matplotlib inline\n",
        "import torchvision\n",
        "import torchvision.datasets as dset\n",
        "import torchvision.transforms as transforms\n",
        "from torch.utils.data import DataLoader,Dataset\n",
        "import matplotlib.pyplot as plt\n",
        "import torchvision.utils\n",
        "import numpy as np\n",
        "import random\n",
        "from PIL import Image\n",
        "import torch\n",
        "from torch.autograd import Variable\n",
        "import PIL.ImageOps    \n",
        "import torch.nn as nn\n",
        "from torch import optim\n",
        "import torch.nn.functional as F"
      ],
      "execution_count": 0,
      "outputs": []
    },
    {
      "metadata": {
        "id": "KHDe7WvaGzu0",
        "colab_type": "code",
        "colab": {}
      },
      "cell_type": "code",
      "source": [
        "def imshow(img,text=None,should_save=False):\n",
        "    npimg = img.numpy()\n",
        "    plt.axis(\"off\")\n",
        "    if text:\n",
        "        plt.text(75, 8, text, style='italic',fontweight='bold',\n",
        "            bbox={'facecolor':'white', 'alpha':0.8, 'pad':10})\n",
        "    plt.imshow(np.transpose(npimg, (1, 2, 0)))\n",
        "    plt.show()    \n",
        "\n",
        "def show_plot(iteration,loss):\n",
        "    plt.plot(iteration,loss)\n",
        "    plt.show()"
      ],
      "execution_count": 0,
      "outputs": []
    },
    {
      "metadata": {
        "id": "qrmi3hZuGzu_",
        "colab_type": "code",
        "outputId": "ee2e6b4d-7a13-4cb8-f662-4032e8356e44",
        "colab": {
          "base_uri": "https://localhost:8080/",
          "height": 139
        }
      },
      "cell_type": "code",
      "source": [
        "class Config():\n",
        "    from google.colab import drive\n",
        "    drive.mount('/content/gdrive', force_remount=True)\n",
        "    training_dir = \"./gdrive/My Drive/fingerprint/train/\"\n",
        "    testing_dir = \"./gdrive/My Drive/fingerprint/test/\"\n",
        "    #train_batch_size = 64\n",
        "    train_batch_size = 64\n",
        "    train_number_epochs = 1000\n",
        "from PIL import Image\n",
        "img = Image.open('./gdrive/My Drive/fingerprint/train/1/1.jpg')\n",
        "print(img.size)"
      ],
      "execution_count": 156,
      "outputs": [
        {
          "output_type": "stream",
          "text": [
            "Mounted at /content/gdrive\n",
            "(100, 100)\n"
          ],
          "name": "stdout"
        },
        {
          "output_type": "stream",
          "text": [
            "Exception ignored in: <bound method Image.__del__ of <PIL.JpegImagePlugin.JpegImageFile image mode=L size=100x100 at 0x7F36814CD898>>\n",
            "Traceback (most recent call last):\n",
            "  File \"/usr/local/lib/python3.6/dist-packages/PIL/Image.py\", line 587, in __del__\n",
            "    self.fp.close()\n",
            "OSError: [Errno 107] Transport endpoint is not connected\n"
          ],
          "name": "stderr"
        }
      ]
    },
    {
      "metadata": {
        "id": "vaa9x9nNrT5Y",
        "colab_type": "code",
        "outputId": "b26b8a45-4a51-4786-b867-951b9c63989d",
        "colab": {
          "base_uri": "https://localhost:8080/",
          "height": 86
        }
      },
      "cell_type": "code",
      "source": [
        "!ls \"./gdrive/My Drive/fingerprint/train/1/\""
      ],
      "execution_count": 157,
      "outputs": [
        {
          "output_type": "stream",
          "text": [
            "1.jpg\t l21.jpg  l33.jpg  l42.jpg  r15.jpg  r27.jpg  r39.jpg  r9.jpg\n",
            "l12.jpg  l24.jpg  l36.jpg  l6.jpg   r18.jpg  r30.jpg  r3.jpg\n",
            "l15.jpg  l27.jpg  l39.jpg  l9.jpg   r21.jpg  r33.jpg  r42.jpg\n",
            "l18.jpg  l30.jpg  l3.jpg   r12.jpg  r24.jpg  r36.jpg  r6.jpg\n"
          ],
          "name": "stdout"
        }
      ]
    },
    {
      "metadata": {
        "id": "quu5FNyGGzvH",
        "colab_type": "code",
        "colab": {}
      },
      "cell_type": "code",
      "source": [
        "class SiameseNetworkDataset(Dataset):\n",
        "    \n",
        "    def __init__(self,imageFolderDataset,transform=None,should_invert=True):\n",
        "        self.imageFolderDataset = imageFolderDataset    \n",
        "        self.transform = transform\n",
        "        self.should_invert = should_invert\n",
        "        \n",
        "    def __getitem__(self,index):\n",
        "        img0_tuple = random.choice(self.imageFolderDataset.imgs)\n",
        "        #we need to make sure approx 50% of images are in the same class\n",
        "        should_get_same_class = random.randint(0,1) \n",
        "        if should_get_same_class:\n",
        "            while True:\n",
        "                #keep looping till the same class image is found\n",
        "                img1_tuple = random.choice(self.imageFolderDataset.imgs) \n",
        "                if img0_tuple[1]==img1_tuple[1]:\n",
        "                    break\n",
        "        else:\n",
        "            while True:\n",
        "                #keep looping till a different class image is found\n",
        "                \n",
        "                img1_tuple = random.choice(self.imageFolderDataset.imgs) \n",
        "                if img0_tuple[1] !=img1_tuple[1]:\n",
        "                    break\n",
        "\n",
        "        img0 = Image.open(img0_tuple[0])\n",
        "        img1 = Image.open(img1_tuple[0])\n",
        "        img0 = img0.convert(\"L\")\n",
        "        img1 = img1.convert(\"L\")\n",
        "        \n",
        "        if self.should_invert:\n",
        "            img0 = PIL.ImageOps.invert(img0)\n",
        "            img1 = PIL.ImageOps.invert(img1)\n",
        "\n",
        "        if self.transform is not None:\n",
        "            img0 = self.transform(img0)\n",
        "            img1 = self.transform(img1)\n",
        "        \n",
        "        return img0, img1 , torch.from_numpy(np.array([int(img1_tuple[1]!=img0_tuple[1])],dtype=np.float32))\n",
        "    \n",
        "    def __len__(self):\n",
        "        return len(self.imageFolderDataset.imgs)"
      ],
      "execution_count": 0,
      "outputs": []
    },
    {
      "metadata": {
        "id": "nfjN8aWVGzvP",
        "colab_type": "code",
        "colab": {}
      },
      "cell_type": "code",
      "source": [
        "folder_dataset = dset.ImageFolder(root=Config.training_dir)"
      ],
      "execution_count": 0,
      "outputs": []
    },
    {
      "metadata": {
        "id": "IuWVJc3eGzvV",
        "colab_type": "code",
        "outputId": "bf82a09a-d3f7-4360-8c8d-d36ff42413e6",
        "colab": {
          "base_uri": "https://localhost:8080/",
          "height": 34
        }
      },
      "cell_type": "code",
      "source": [
        "siamese_dataset = SiameseNetworkDataset(imageFolderDataset=folder_dataset,\n",
        "                                        transform=transforms.Compose([transforms.Resize((100,100)),\n",
        "                                                                      transforms.ToTensor()\n",
        "                                                                      ])\n",
        "                                       ,should_invert=False)\n",
        "print(f'size of data {len(siamese_dataset)}')"
      ],
      "execution_count": 160,
      "outputs": [
        {
          "output_type": "stream",
          "text": [
            "size of data 1073\n"
          ],
          "name": "stdout"
        }
      ]
    },
    {
      "metadata": {
        "id": "-_NpCfM1Gzvg",
        "colab_type": "code",
        "outputId": "65cfcc10-d9d2-46d6-c101-373193d2c861",
        "colab": {
          "base_uri": "https://localhost:8080/",
          "height": 275
        }
      },
      "cell_type": "code",
      "source": [
        "vis_dataloader = DataLoader(siamese_dataset,\n",
        "                        shuffle=True,\n",
        "                        num_workers=8,\n",
        "                        batch_size=8)\n",
        "dataiter = iter(vis_dataloader)\n",
        "\n",
        "\n",
        "example_batch = next(dataiter)\n",
        "concatenated = torch.cat((example_batch[0],example_batch[1]),0)\n",
        "imshow(torchvision.utils.make_grid(concatenated))\n",
        "print(example_batch[2].numpy())"
      ],
      "execution_count": 161,
      "outputs": [
        {
          "output_type": "display_data",
          "data": {
            "image/png": "[encoded data removed]",
            "text/plain": [
              "<Figure size 432x288 with 1 Axes>"
            ]
          },
          "metadata": {
            "tags": []
          }
        },
        {
          "output_type": "stream",
          "text": [
            "[[1.]\n",
            " [1.]\n",
            " [0.]\n",
            " [1.]\n",
            " [0.]\n",
            " [1.]\n",
            " [0.]\n",
            " [1.]]\n"
          ],
          "name": "stdout"
        }
      ]
    },
    {
      "metadata": {
        "id": "xFVUHgz2Gzvt",
        "colab_type": "code",
        "colab": {}
      },
      "cell_type": "code",
      "source": [
        "class SiameseNetwork(nn.Module):\n",
        "    def __init__(self):\n",
        "        super(SiameseNetwork, self).__init__()\n",
        "        self.cnn1 = nn.Sequential(\n",
        "            nn.ReflectionPad2d(1),\n",
        "            nn.Conv2d(1, 64, kernel_size=8),\n",
        "            nn.MaxPool2d(2,stride=2),\n",
        "            nn.ReLU(inplace=True),\n",
        "            nn.BatchNorm2d(64),\n",
        "            \n",
        "            nn.ReflectionPad2d(1),\n",
        "            nn.Conv2d(64, 128, kernel_size=3),\n",
        "            nn.ReLU(inplace=True),\n",
        "            nn.MaxPool2d(2,stride=2),\n",
        "            nn.BatchNorm2d(128),\n",
        "\n",
        "            nn.ReflectionPad2d(1),\n",
        "            nn.Conv2d(128, 256, kernel_size=3),\n",
        "            nn.ReLU(inplace=True),\n",
        "            nn.MaxPool2d(2,stride=2),\n",
        "            nn.BatchNorm2d(256),\n",
        "            \n",
        "            nn.ReflectionPad2d(1),\n",
        "            nn.Conv2d(256, 512, kernel_size=3),\n",
        "            nn.ReLU(inplace=True),\n",
        "            nn.MaxPool2d(2,stride=2),\n",
        "            nn.BatchNorm2d(512),\n",
        "        )\n",
        "\n",
        "        self.fc1 = nn.Sequential(\n",
        "            nn.Linear(5*5*512, 800),\n",
        "            nn.ReLU(inplace=True),\n",
        "\n",
        "            nn.Linear(800, 1000),\n",
        "            nn.ReLU(inplace=True),\n",
        "            \n",
        "            nn.Linear(1000, 800),\n",
        "            nn.ReLU(inplace=True),\n",
        "\n",
        "            nn.Linear(800, 40) #3\n",
        "            #nn.Sigmoid(), #1.satruation, 2. useful info \n",
        "            )\n",
        "\n",
        "    def forward_once(self, x):\n",
        "        output = self.cnn1(x)\n",
        "        output = output.view(output.size()[0], -1)\n",
        "        output = self.fc1(output)\n",
        "        return output\n",
        "\n",
        "    def forward(self, input1, input2):\n",
        "        output1 = self.forward_once(input1)\n",
        "        output2 = self.forward_once(input2)\n",
        "        return output1, output2"
      ],
      "execution_count": 0,
      "outputs": []
    },
    {
      "metadata": {
        "id": "4Kg5uCWpGzv5",
        "colab_type": "code",
        "colab": {}
      },
      "cell_type": "code",
      "source": [
        "import numpy as np\n",
        "class ContrastiveLoss(torch.nn.Module):\n",
        "    \"\"\"\n",
        "    Contrastive loss function.\n",
        "    Based on: http://yann.lecun.com/exdb/publis/pdf/hadsell-chopra-lecun-06.pdf\n",
        "    \"\"\"\n",
        "\n",
        "    def __init__(self, margin=4.0):\n",
        "        super(ContrastiveLoss, self).__init__()\n",
        "        self.margin = margin\n",
        "\n",
        "    def forward(self, output1, output2, label):\n",
        "        euclidean_distance = F.pairwise_distance(output1, output2)\n",
        "        #print(euclidean_distance)\n",
        "        loss_contrastive = torch.mean((1-label) * torch.pow(euclidean_distance, 2) +\n",
        "                                      (label) * torch.pow(torch.clamp(self.margin - euclidean_distance, min=0.0), 2)) #***\n",
        "        if(loss_contrastive==1.0):\n",
        "          print(\"bad margin\")\n",
        "        return loss_contrastive"
      ],
      "execution_count": 0,
      "outputs": []
    },
    {
      "metadata": {
        "id": "kPVbT2OaGzwA",
        "colab_type": "code",
        "colab": {}
      },
      "cell_type": "code",
      "source": [
        "train_dataloader = DataLoader(siamese_dataset,\n",
        "                        shuffle=True,\n",
        "                        num_workers=8,\n",
        "                        batch_size=Config.train_batch_size)"
      ],
      "execution_count": 0,
      "outputs": []
    },
    {
      "metadata": {
        "id": "HvnFn4jIGzwG",
        "colab_type": "code",
        "colab": {}
      },
      "cell_type": "code",
      "source": [
        "net = SiameseNetwork().cuda()\n",
        "sd = torch.load('/content/gdrive/My Drive/InfoSecFingerprint.pth')\n",
        "net.load_state_dict(sd)\n",
        "criterion = ContrastiveLoss()\n",
        "#optimizer = optim.Adam(net.parameters(),lr = 0.0005 )\n",
        "optimizer = optim.SGD(net.parameters(),lr = .0001,momentum = .9)"
      ],
      "execution_count": 0,
      "outputs": []
    },
    {
      "metadata": {
        "id": "Tyrx_tlov87b",
        "colab_type": "code",
        "colab": {}
      },
      "cell_type": "code",
      "source": [
        "def save():\n",
        "  import torch\n",
        "  torch.save(net.state_dict(),'/content/gdrive/My Drive/InfoSecFingerprint.pth')"
      ],
      "execution_count": 0,
      "outputs": []
    },
    {
      "metadata": {
        "id": "-MPUoqqgGzwO",
        "colab_type": "code",
        "colab": {}
      },
      "cell_type": "code",
      "source": [
        "counter = []\n",
        "loss_history = [] \n",
        "iteration_number= 0"
      ],
      "execution_count": 0,
      "outputs": []
    },
    {
      "metadata": {
        "scrolled": true,
        "id": "NfXiUOrOGzwR",
        "colab_type": "code",
        "outputId": "867cbdee-857e-4096-8c77-f50a34e806fd",
        "colab": {
          "base_uri": "https://localhost:8080/",
          "height": 416
        }
      },
      "cell_type": "code",
      "source": [
        "scheduler = torch.optim.lr_scheduler.StepLR(optimizer, step_size=250, gamma=0.5)\n",
        "for epoch in range(0,20):\n",
        "    total_loss = 0\n",
        "    z=0\n",
        "    for i, data in enumerate(train_dataloader,0):\n",
        "        z+=1\n",
        "        img0, img1 , label = data\n",
        "        img0, img1 , label = img0.cuda(), img1.cuda() , label.cuda()\n",
        "        #print(img0)\n",
        "        optimizer.zero_grad()\n",
        "        output1,output2 = net(img0,img1)\n",
        "        loss_contrastive = criterion(output1,output2,label)\n",
        "        loss_contrastive.backward()\n",
        "        total_loss += loss_contrastive.item()\n",
        "        optimizer.step()\n",
        "    print(total_loss)\n",
        "    scheduler.step()\n",
        "        #if i % 10 == 9 :\n",
        "        #    print(\"Epoch number {}\\n Current loss {}\\n\".format(epoch,loss_contrastive.item()))\n",
        "        #    iteration_number +=10\n",
        "        #    counter.append(iteration_number)\n",
        "        #    loss_history.append(loss_contrastive.item())\n",
        "            \n",
        "        \n",
        "#show_plot(counter,loss_history)\n",
        "print(\"training completed\")\n",
        "print(f'total samples per minibatch {len(label)}')\n",
        "print(f'total iterations per epoch: {z}')"
      ],
      "execution_count": 168,
      "outputs": [
        {
          "output_type": "stream",
          "text": [
            "69.19823837280273\n",
            "69.54952955245972\n",
            "69.12801766395569\n",
            "69.3725438117981\n",
            "69.10017132759094\n",
            "69.18562436103821\n",
            "69.0839900970459\n",
            "69.18299150466919\n",
            "69.241455078125\n",
            "69.0711100101471\n",
            "69.29670000076294\n",
            "69.44494533538818\n",
            "68.99129986763\n",
            "69.24541091918945\n",
            "69.68192768096924\n",
            "69.11439323425293\n",
            "69.40269088745117\n",
            "68.48160219192505\n",
            "69.10216426849365\n",
            "68.9525580406189\n",
            "training completed\n",
            "total samples per minibatch 49\n",
            "total iterations per epoch: 17\n"
          ],
          "name": "stdout"
        }
      ]
    },
    {
      "metadata": {
        "run_control": {
          "marked": true
        },
        "scrolled": false,
        "id": "8sBjW9JcGzwb",
        "colab_type": "code",
        "outputId": "23a5c9fa-cb47-452c-8de1-ce81af1274ae",
        "colab": {
          "base_uri": "https://localhost:8080/",
          "height": 124
        }
      },
      "cell_type": "code",
      "source": [
        "#folder_dataset_test = dset.ImageFolder(root=Config.testing_dir)\n",
        "folder_dataset_test = dset.ImageFolder(root=Config.training_dir)\n",
        "siamese_dataset = SiameseNetworkDataset(imageFolderDataset=folder_dataset_test,\n",
        "                                        transform=transforms.Compose([transforms.Resize((100,100)),\n",
        "                                                                      transforms.ToTensor()\n",
        "                                                                      ])\n",
        "                                       ,should_invert=False)\n",
        "\n",
        "test_dataloader = DataLoader(siamese_dataset,num_workers=6,batch_size=1,shuffle=True)\n",
        "img0_tuple = folder_dataset.imgs[0]\n",
        "print(img0_tuple[1])\n",
        "img1_tuple = folder_dataset.imgs[1]\n",
        "print(img1_tuple[1])\n",
        "dataiter = iter(test_dataloader)\n",
        "labels_test = []\n",
        "similarity_score = []\n",
        "for i in range(200):\n",
        "  try:\n",
        "    x0,x1,label2 = next(dataiter)\n",
        "    concatenated = torch.cat((x0,x1),0)\n",
        "    \n",
        "    output1,output2 = net(Variable(x0).cuda(),Variable(x1).cuda())\n",
        "    euclidean_distance = F.pairwise_distance(output1, output2)\n",
        "    #imshow(torchvision.utils.make_grid(concatenated),'Dissimilarity: {:.2f}'.format(euclidean_distance.item()))\n",
        "    labels_test.append(label2.item())\n",
        "    similarity_score.append(1-euclidean_distance.item())\n",
        "  except:\n",
        "    break;\n",
        "print(labels_test)\n",
        "print(similarity_score)\n",
        "import numpy as np\n",
        "similarity_score = (similarity_score - np.min(similarity_score))/np.ptp(similarity_score) # 0 to 1 norm.....\n",
        "len(labels_test)\n",
        "tuples =zip(similarity_score, labels_test)\n",
        "from operator import itemgetter\n",
        "tuples = sorted(tuples,key=itemgetter(0))\n",
        "print(tuples)\n"
      ],
      "execution_count": 173,
      "outputs": [
        {
          "output_type": "stream",
          "text": [
            "0\n",
            "0\n",
            "[1.0, 1.0, 0.0, 0.0, 1.0, 1.0, 0.0, 0.0, 1.0, 0.0, 1.0, 1.0, 0.0, 0.0, 1.0, 1.0, 0.0, 0.0, 1.0, 1.0, 1.0, 1.0, 0.0, 0.0, 0.0, 1.0, 0.0, 1.0, 0.0, 1.0, 1.0, 0.0, 0.0, 0.0, 0.0, 1.0, 1.0, 1.0, 0.0, 1.0, 1.0, 1.0, 1.0, 0.0, 0.0, 1.0, 0.0, 1.0, 0.0, 1.0, 0.0, 0.0, 1.0, 1.0, 1.0, 0.0, 0.0, 1.0, 1.0, 1.0, 1.0, 0.0, 1.0, 1.0, 1.0, 1.0, 1.0, 0.0, 1.0, 1.0, 0.0, 1.0, 0.0, 0.0, 1.0, 0.0, 1.0, 0.0, 0.0, 1.0, 1.0, 0.0, 0.0, 0.0, 1.0, 1.0, 1.0, 1.0, 1.0, 0.0, 1.0, 1.0, 0.0, 1.0, 0.0, 0.0, 0.0, 0.0, 0.0, 0.0, 1.0, 0.0, 1.0, 0.0, 0.0, 0.0, 0.0, 0.0, 1.0, 1.0, 0.0, 0.0, 0.0, 1.0, 0.0, 1.0, 1.0, 0.0, 1.0, 1.0, 0.0, 0.0, 0.0, 0.0, 1.0, 1.0, 0.0, 0.0, 1.0, 1.0, 1.0, 1.0, 0.0, 0.0, 1.0, 0.0, 0.0, 1.0, 1.0, 1.0, 0.0, 1.0, 0.0, 1.0, 0.0, 1.0, 0.0, 0.0, 0.0, 1.0, 0.0, 1.0, 1.0, 1.0, 1.0, 0.0, 1.0, 0.0, 1.0, 0.0, 1.0, 0.0, 1.0, 1.0, 0.0, 0.0, 0.0, 0.0, 1.0, 0.0, 0.0, 0.0, 1.0, 0.0, 1.0, 1.0, 0.0, 1.0, 0.0, 1.0, 0.0, 1.0, 0.0, 0.0, 0.0, 1.0, 1.0, 1.0, 0.0, 1.0, 0.0, 1.0, 1.0, 0.0, 1.0, 1.0, 1.0, 1.0, 0.0, 1.0]\n",
            "[-3.914219379425049, -2.5930211544036865, -0.9544745683670044, -0.20759046077728271, -3.041907787322998, -1.7943344116210938, -0.7571800947189331, -1.0324320793151855, -1.3473098278045654, -3.9248580932617188, -3.091099262237549, -1.124387264251709, -4.5452728271484375, -0.1741335391998291, -0.4951521158218384, -2.664630174636841, -0.5666718482971191, -0.38956964015960693, -2.3237130641937256, -0.6864446401596069, -7.537416458129883, -2.155862808227539, -1.2438337802886963, -1.9750251770019531, -0.6320145130157471, -0.6666584014892578, -1.134373426437378, -3.348048686981201, -0.9065132141113281, -1.7166922092437744, -6.258265972137451, -0.9584411382675171, -0.7183569669723511, -1.822450876235962, -3.4457039833068848, -4.681550979614258, -0.7497690916061401, -1.508084774017334, -0.436443567276001, -3.049178123474121, -0.49975311756134033, -3.1158905029296875, -1.2586145401000977, -2.929203510284424, -1.1774227619171143, -1.1831836700439453, 0.9999936754452392, -1.778876781463623, -4.337985992431641, -1.2549595832824707, -2.7357828617095947, -0.9791268110275269, -3.1183176040649414, -3.301870346069336, -5.696010112762451, -0.6860618591308594, -0.24212300777435303, -1.8835406303405762, -1.8463795185089111, -2.282454013824463, -2.145279884338379, -0.5561844110488892, -6.209695816040039, -1.6063523292541504, -5.683250427246094, -1.2374200820922852, -2.3608031272888184, 0.9999936754452392, -5.8252081871032715, -1.629511833190918, -0.5925973653793335, -4.0740275382995605, -0.9905647039413452, -0.7332688570022583, -2.560734272003174, -0.7763853073120117, -1.069978952407837, -0.3320298194885254, -0.4863896369934082, -3.9733357429504395, -1.6684231758117676, -0.344659686088562, -1.0104174613952637, -1.565211296081543, -5.093307018280029, -4.357270240783691, -5.891025066375732, -5.195924282073975, -0.8004883527755737, 0.9999936754452392, -1.4367129802703857, -0.8464617729187012, -0.47373533248901367, -1.0782699584960938, -1.5472321510314941, -0.827892541885376, -0.7290321588516235, -0.27288782596588135, -0.9958291053771973, -1.8992481231689453, -4.518951416015625, -1.2262089252471924, -2.621530771255493, -1.3292992115020752, -0.8538202047348022, -0.9928276538848877, -0.3427441120147705, -3.80674409866333, -3.4514212608337402, -1.5429823398590088, -0.5270471572875977, -4.1292924880981445, -3.494753360748291, -0.9338737726211548, -0.7472711801528931, -3.3137869834899902, -6.12822151184082, -1.0609018802642822, -3.9100794792175293, -4.612969398498535, -1.0574603080749512, -1.2130157947540283, -0.5120582580566406, -0.8533627986907959, -2.1545729637145996, -5.813470840454102, -3.2147417068481445, -2.9229326248168945, -5.346721649169922, -1.887819528579712, -0.7576676607131958, -2.000528573989868, -1.1857540607452393, -1.026043176651001, -4.480323314666748, -0.9672974348068237, -1.6865777969360352, -2.842316150665283, -2.666318655014038, -0.8395997285842896, -0.7124868631362915, -2.3576579093933105, -0.2458794116973877, -2.117720127105713, -1.5892510414123535, -4.196621417999268, -1.0281236171722412, -2.251328229904175, -1.286266803741455, -1.8974435329437256, -0.3981736898422241, -5.004977226257324, -0.3115442991256714, -0.8482621908187866, -1.8391151428222656, -3.0392942428588867, -5.11990213394165, -3.230602741241455, -3.2403979301452637, -0.5225950479507446, -1.1174182891845703, -1.5113418102264404, -3.981785774230957, -1.2765166759490967, -0.8731265068054199, -1.0404462814331055, -1.6279172897338867, -1.5952246189117432, -0.3747751712799072, -3.307934284210205, -1.7926487922668457, -0.32644522190093994, -0.9507836103439331, -1.6424152851104736, -2.6552114486694336, -1.6040961742401123, -0.6251879930496216, -6.325520038604736, -2.6771082878112793, -0.530781626701355, -0.8000049591064453, -1.226891279220581, -4.2479681968688965, -2.692188262939453, -3.668531894683838, -4.495297908782959, -5.175991535186768, -1.0601069927215576, -0.6391117572784424, -0.9455827474594116, -2.045534133911133, -1.051567554473877, -0.7885053157806396, -1.034837245941162, -3.9047818183898926, -4.145102500915527, -4.613147258758545, -1.0868947505950928, -3.0298080444335938, -1.1934785842895508]\n",
            "[(0.0, 1.0), (0.14195129442816792, 1.0), (0.1498288668318638, 1.0), (0.15551796403318016, 1.0), (0.16506117478731794, 1.0), (0.19284435982281997, 1.0), (0.2005535922765383, 1.0), (0.20192840576980253, 1.0), (0.21568676174121262, 1.0), (0.21718132336080465, 1.0), (0.2565994575268913, 1.0), (0.2742625854235945, 1.0), (0.2765973387709612, 1.0), (0.28316717673909797, 1.0), (0.28628230360374635, 1.0), (0.29662850820686476, 1.0), (0.3345119226830097, 1.0), (0.34252415587615354, 1.0), (0.342544988922385, 1.0), (0.3504743926046407, 0.0), (0.35355746003621435, 1.0), (0.35632803177431605, 1.0), (0.3580820290500613, 1.0), (0.3724954251453391, 1.0), (0.3747542188603337, 0.0), (0.3852981419183031, 0.0), (0.39131246922204793, 1.0), (0.39734695933997394, 1.0), (0.39919881049506917, 0.0), (0.4056720791952858, 1.0), (0.4164764991101548, 1.0), (0.4174662642904975, 1.0), (0.42314452607366665, 0.0), (0.42439065501326523, 1.0), (0.42487556790168773, 1.0), (0.4254960910749628, 1.0), (0.4369794002041575, 0.0), (0.4531684085588041, 0.0), (0.47352335592769373, 0.0), (0.4785989115395928, 1.0), (0.4792685850632262, 0.0), (0.4907071003503897, 1.0), (0.4947202264571548, 1.0), (0.49540576213931303, 0.0), (0.4961160405546631, 1.0), (0.5033163993241592, 1.0), (0.5044637248890032, 0.0), (0.5063215522798805, 0.0), (0.5176158559708788, 1.0), (0.5179001460655656, 1.0), (0.5208039822763436, 1.0), (0.5257142698351625, 1.0), (0.5265658555077929, 1.0), (0.5268719839967867, 0.0), (0.5279831170309122, 0.0), (0.5397670810873562, 0.0), (0.5405015995618603, 0.0), (0.5499443313611175, 1.0), (0.5624227396007222, 0.0), (0.5675290421079306, 0.0), (0.5692953828239364, 0.0), (0.5705591891338628, 1.0), (0.5707569634413846, 1.0), (0.5718601933225831, 1.0), (0.575805262949903, 1.0), (0.5791446382880616, 1.0), (0.5829264505584524, 1.0), (0.6063446935134307, 1.0), (0.6067130977304354, 1.0), (0.6106891097374127, 1.0), (0.61552184586274, 1.0), (0.6191676568795821, 0.0), (0.6303496687758126, 1.0), (0.6305007502504938, 1.0), (0.6315892629529203, 1.0), (0.6348173797707222, 1.0), (0.6432726363491421, 0.0), (0.6485442069094307, 1.0), (0.6515314590841409, 0.0), (0.6604073421268214, 0.0), (0.6606187165596981, 1.0), (0.6617459910157026, 1.0), (0.6622471849576813, 1.0), (0.6665999232296218, 1.0), (0.6674508107438666, 1.0), (0.6694027219588108, 0.0), (0.6726960467698438, 1.0), (0.6728934859613405, 0.0), (0.6745066228011721, 1.0), (0.6817903975346004, 1.0), (0.6853177450365446, 0.0), (0.6874442237742675, 1.0), (0.6904905680747495, 0.0), (0.6920019692746064, 1.0), (0.6921887406059684, 0.0), (0.6947146776456952, 1.0), (0.694978944557878, 1.0), (0.6960180834992625, 0.0), (0.6967177778334843, 0.0), (0.6995335902349841, 0.0), (0.7016395151898298, 0.0), (0.7021373021188859, 1.0), (0.7058434060939235, 0.0), (0.7062249077622453, 1.0), (0.7145847959051687, 1.0), (0.7250567248703971, 1.0), (0.7271663361015197, 0.0), (0.732206788309782, 0.0), (0.7333488357972296, 1.0), (0.7354457405457312, 1.0), (0.7358738512678872, 1.0), (0.7371770337107711, 0.0), (0.7379282800601983, 1.0), (0.7391615349591633, 1.0), (0.7392414601311665, 0.0), (0.740786791828572, 0.0), (0.7430752153854587, 1.0), (0.7439800007270851, 0.0), (0.7442810745493659, 1.0), (0.7449558585923832, 0.0), (0.7499982935704612, 0.0), (0.7511679881299853, 1.0), (0.7519842749146312, 1.0), (0.7555595440081748, 1.0), (0.7565697791923884, 1.0), (0.7575409175069987, 1.0), (0.7586041289495247, 0.0), (0.7586972353518514, 1.0), (0.75900724560147, 0.0), (0.7596974729079806, 1.0), (0.7610001247504914, 0.0), (0.7616571197178392, 0.0), (0.7619388405896664, 0.0), (0.7624434973972386, 0.0), (0.7626871826002087, 0.0), (0.7645174466980159, 0.0), (0.7662262033103631, 0.0), (0.766577767947103, 0.0), (0.7668428307598455, 0.0), (0.7681825687758086, 0.0), (0.7695681618345491, 0.0), (0.7706055134904661, 0.0), (0.7710701239330303, 0.0), (0.7715024515318364, 1.0), (0.7721116366129266, 1.0), (0.7734831268722745, 1.0), (0.7766879112368238, 0.0), (0.7805985476925574, 0.0), (0.7828599245935793, 0.0), (0.7829135012681037, 0.0), (0.783510943325145, 1.0), (0.7837218290471516, 1.0), (0.7845255908703567, 1.0), (0.7858968716821889, 0.0), (0.7891067665661221, 1.0), (0.7891633872112083, 0.0), (0.7905103581480479, 1.0), (0.7919299934096787, 0.0), (0.7941224201885217, 1.0), (0.794179529544478, 0.0), (0.7950475917550128, 1.0), (0.7953401759713226, 0.0), (0.7969802896511805, 0.0), (0.797476540631788, 0.0), (0.7987269423007075, 0.0), (0.7994145166053521, 0.0), (0.8024648822981363, 1.0), (0.8025097180296706, 0.0), (0.8047824749123806, 1.0), (0.8080090557817339, 0.0), (0.8088403669348415, 0.0), (0.8096399677340673, 0.0), (0.8134573581557971, 0.0), (0.8164940539073877, 0.0), (0.8177224635871553, 0.0), (0.8206979308483137, 1.0), (0.8211353550033359, 0.0), (0.8216568374280052, 0.0), (0.822891027859207, 0.0), (0.8243323479203, 1.0), (0.8248712703414459, 1.0), (0.8258976329843708, 0.0), (0.8273798511637024, 0.0), (0.831747893067459, 0.0), (0.836230502762321, 0.0), (0.8372383083553521, 0.0), (0.8389712072846793, 1.0), (0.842498680455133, 0.0), (0.8427230545971527, 0.0), (0.8439780361850828, 0.0), (0.844632168703049, 0.0), (0.8463775367411461, 1.0), (0.8509054289889094, 0.0), (0.8540689661560272, 0.0), (0.8545089595339092, 0.0), (0.8585538099577237, 0.0), (0.8624726707192417, 0.0), (1.0, 0.0), (1.0, 0.0), (1.0, 0.0)]\n"
          ],
          "name": "stdout"
        }
      ]
    },
    {
      "metadata": {
        "id": "y41aAzX6SdqG",
        "colab_type": "code",
        "outputId": "1fadabb0-5e94-4974-bb35-02c28260663c",
        "colab": {
          "base_uri": "https://localhost:8080/",
          "height": 54
        }
      },
      "cell_type": "code",
      "source": [
        "'''correct = 0\n",
        "total = 0\n",
        "with torch.no_grad():\n",
        "    for data in test_dataloader:\n",
        "        images, labels = data\n",
        "        outputs = net(images)\n",
        "        _, predicted = torch.max(outputs.data, 1)\n",
        "        total += labels.size(0)\n",
        "        correct += (predicted == labels).sum().item()\n",
        "\n",
        "print('Accuracy of the network on the 10000 test images: %d %%' % (\n",
        "    100 * correct / total)) '''"
      ],
      "execution_count": 170,
      "outputs": [
        {
          "output_type": "execute_result",
          "data": {
            "text/plain": [
              "\"correct = 0\\ntotal = 0\\nwith torch.no_grad():\\n    for data in test_dataloader:\\n        images, labels = data\\n        outputs = net(images)\\n        _, predicted = torch.max(outputs.data, 1)\\n        total += labels.size(0)\\n        correct += (predicted == labels).sum().item()\\n\\nprint('Accuracy of the network on the 10000 test images: %d %%' % (\\n    100 * correct / total)) \""
            ]
          },
          "metadata": {
            "tags": []
          },
          "execution_count": 170
        }
      ]
    },
    {
      "metadata": {
        "id": "PhnF7RsaN8xs",
        "colab_type": "code",
        "colab": {}
      },
      "cell_type": "code",
      "source": [
        "save()"
      ],
      "execution_count": 0,
      "outputs": []
    },
    {
      "metadata": {
        "id": "NREPf-SHmyFn",
        "colab_type": "code",
        "outputId": "96269c1b-d7fd-40f3-ccd2-30ee544ed9af",
        "colab": {
          "base_uri": "https://localhost:8080/",
          "height": 454
        }
      },
      "cell_type": "code",
      "source": [
        "tuples =zip(similarity_score, labels_test)\n",
        "avg0 = 0\n",
        "avg1 = 0\n",
        "num = 0\n",
        "num1= 0\n",
        "tuples_list = sorted(tuples)\n",
        "for t in tuples_list:\n",
        "  #print(t)\n",
        "  if(t[1]==0.0):\n",
        "    avg0 +=t[0]\n",
        "    num+=1\n",
        "  else:\n",
        "    avg1 +=t[0]\n",
        "    num1+=1\n",
        "print(avg0/num)\n",
        "print(avg1/num1)\n",
        "print(num)\n",
        "print(num1)\n",
        "tuples_list.reverse()\n",
        "datapoint = []\n",
        "true_ = 0\n",
        "false_ = 0\n",
        "for t in tuples_list:\n",
        "  if(t[1]==0.0):\n",
        "    true_+=1\n",
        "    datapoint.append((false_,true_))\n",
        "  else:\n",
        "    false_+=1\n",
        "    datapoint.append((false_,true_))\n",
        "import matplotlib.pyplot as plt\n",
        "x = [0]\n",
        "y = [0]\n",
        "i=0\n",
        "baseX = []\n",
        "baseY = []\n",
        "for i in range(0,16):\n",
        "  baseX.append(i/15.0)\n",
        "  baseY.append(i/15.0)\n",
        "print(false_)\n",
        "print(true_)\n",
        "print(datapoint)\n",
        "for pts in datapoint:\n",
        "  x.append(pts[0]/false_)\n",
        "  y.append(pts[1]/true_)\n",
        "plt.plot(x,y)\n",
        "xrand = list(range(0,99))\n",
        "yrand = list(range(0,99))\n",
        "for i in range(0,99):\n",
        "  xrand[i] = xrand[i]/100\n",
        "  yrand[i] = yrand[i]/100\n",
        "plt.plot(xrand,yrand,':')\n",
        "#plt.plot(baseX,baseY,'y--')\n",
        "plt.title(\"ROC Curve for Fingerprints Recognition with Thresholds\")\n",
        "plt.ylabel(\"True Positive Rate\")\n",
        "plt.xlabel(\"False Positive Rate\")\n",
        "i = 1\n",
        "print(tuples_list)\n",
        "plt.text(x[0], y[0], str(f'{1.00:.2f}'), color=\"black\", fontsize=7)\n",
        "for z in tuples_list:\n",
        "  if(i%2==0):\n",
        "    plt.text(x[i], y[i], str(f'{z[0]:.3f}'), color=\"black\", fontsize=7)\n",
        "  i+=1\n",
        "plt.show()"
      ],
      "execution_count": 174,
      "outputs": [
        {
          "output_type": "stream",
          "text": [
            "0.7209853976388455\n",
            "0.5652939316707776\n",
            "96\n",
            "104\n",
            "104\n",
            "96\n",
            "[(0, 1), (0, 2), (0, 3), (0, 4), (0, 5), (0, 6), (0, 7), (0, 8), (1, 8), (1, 9), (1, 10), (1, 11), (1, 12), (2, 12), (2, 13), (2, 14), (2, 15), (2, 16), (2, 17), (3, 17), (4, 17), (4, 18), (4, 19), (4, 20), (5, 20), (5, 21), (5, 22), (5, 23), (5, 24), (5, 25), (5, 26), (6, 26), (6, 27), (7, 27), (7, 28), (7, 29), (7, 30), (7, 31), (7, 32), (8, 32), (8, 33), (9, 33), (9, 34), (10, 34), (10, 35), (11, 35), (11, 36), (12, 36), (13, 36), (14, 36), (14, 37), (14, 38), (14, 39), (14, 40), (15, 40), (16, 40), (17, 40), (17, 41), (17, 42), (17, 43), (17, 44), (17, 45), (17, 46), (17, 47), (17, 48), (17, 49), (17, 50), (17, 51), (17, 52), (17, 53), (18, 53), (18, 54), (19, 54), (19, 55), (20, 55), (21, 55), (22, 55), (23, 55), (24, 55), (24, 56), (24, 57), (25, 57), (25, 58), (26, 58), (26, 59), (26, 60), (27, 60), (28, 60), (28, 61), (29, 61), (30, 61), (31, 61), (31, 62), (31, 63), (32, 63), (33, 63), (34, 63), (34, 64), (35, 64), (35, 65), (35, 66), (35, 67), (35, 68), (36, 68), (37, 68), (37, 69), (38, 69), (38, 70), (39, 70), (39, 71), (40, 71), (41, 71), (41, 72), (42, 72), (42, 73), (43, 73), (44, 73), (45, 73), (46, 73), (47, 73), (47, 74), (47, 75), (48, 75), (48, 76), (49, 76), (50, 76), (51, 76), (52, 76), (52, 77), (53, 77), (54, 77), (55, 77), (56, 77), (57, 77), (58, 77), (59, 77), (60, 77), (61, 77), (62, 77), (62, 78), (62, 79), (62, 80), (63, 80), (63, 81), (63, 82), (63, 83), (63, 84), (64, 84), (65, 84), (66, 84), (67, 84), (68, 84), (68, 85), (68, 86), (69, 86), (70, 86), (70, 87), (71, 87), (72, 87), (72, 88), (73, 88), (73, 89), (73, 90), (73, 91), (74, 91), (75, 91), (76, 91), (76, 92), (77, 92), (78, 92), (79, 92), (79, 93), (80, 93), (81, 93), (81, 94), (81, 95), (82, 95), (83, 95), (84, 95), (85, 95), (85, 96), (86, 96), (87, 96), (88, 96), (89, 96), (90, 96), (91, 96), (92, 96), (93, 96), (94, 96), (95, 96), (96, 96), (97, 96), (98, 96), (99, 96), (100, 96), (101, 96), (102, 96), (103, 96), (104, 96)]\n",
            "[(1.0, 0.0), (1.0, 0.0), (1.0, 0.0), (0.8624726707192417, 0.0), (0.8585538099577237, 0.0), (0.8545089595339092, 0.0), (0.8540689661560272, 0.0), (0.8509054289889094, 0.0), (0.8463775367411461, 1.0), (0.844632168703049, 0.0), (0.8439780361850828, 0.0), (0.8427230545971527, 0.0), (0.842498680455133, 0.0), (0.8389712072846793, 1.0), (0.8372383083553521, 0.0), (0.836230502762321, 0.0), (0.831747893067459, 0.0), (0.8273798511637024, 0.0), (0.8258976329843708, 0.0), (0.8248712703414459, 1.0), (0.8243323479203, 1.0), (0.822891027859207, 0.0), (0.8216568374280052, 0.0), (0.8211353550033359, 0.0), (0.8206979308483137, 1.0), (0.8177224635871553, 0.0), (0.8164940539073877, 0.0), (0.8134573581557971, 0.0), (0.8096399677340673, 0.0), (0.8088403669348415, 0.0), (0.8080090557817339, 0.0), (0.8047824749123806, 1.0), (0.8025097180296706, 0.0), (0.8024648822981363, 1.0), (0.7994145166053521, 0.0), (0.7987269423007075, 0.0), (0.797476540631788, 0.0), (0.7969802896511805, 0.0), (0.7953401759713226, 0.0), (0.7950475917550128, 1.0), (0.794179529544478, 0.0), (0.7941224201885217, 1.0), (0.7919299934096787, 0.0), (0.7905103581480479, 1.0), (0.7891633872112083, 0.0), (0.7891067665661221, 1.0), (0.7858968716821889, 0.0), (0.7845255908703567, 1.0), (0.7837218290471516, 1.0), (0.783510943325145, 1.0), (0.7829135012681037, 0.0), (0.7828599245935793, 0.0), (0.7805985476925574, 0.0), (0.7766879112368238, 0.0), (0.7734831268722745, 1.0), (0.7721116366129266, 1.0), (0.7715024515318364, 1.0), (0.7710701239330303, 0.0), (0.7706055134904661, 0.0), (0.7695681618345491, 0.0), (0.7681825687758086, 0.0), (0.7668428307598455, 0.0), (0.766577767947103, 0.0), (0.7662262033103631, 0.0), (0.7645174466980159, 0.0), (0.7626871826002087, 0.0), (0.7624434973972386, 0.0), (0.7619388405896664, 0.0), (0.7616571197178392, 0.0), (0.7610001247504914, 0.0), (0.7596974729079806, 1.0), (0.75900724560147, 0.0), (0.7586972353518514, 1.0), (0.7586041289495247, 0.0), (0.7575409175069987, 1.0), (0.7565697791923884, 1.0), (0.7555595440081748, 1.0), (0.7519842749146312, 1.0), (0.7511679881299853, 1.0), (0.7499982935704612, 0.0), (0.7449558585923832, 0.0), (0.7442810745493659, 1.0), (0.7439800007270851, 0.0), (0.7430752153854587, 1.0), (0.740786791828572, 0.0), (0.7392414601311665, 0.0), (0.7391615349591633, 1.0), (0.7379282800601983, 1.0), (0.7371770337107711, 0.0), (0.7358738512678872, 1.0), (0.7354457405457312, 1.0), (0.7333488357972296, 1.0), (0.732206788309782, 0.0), (0.7271663361015197, 0.0), (0.7250567248703971, 1.0), (0.7145847959051687, 1.0), (0.7062249077622453, 1.0), (0.7058434060939235, 0.0), (0.7021373021188859, 1.0), (0.7016395151898298, 0.0), (0.6995335902349841, 0.0), (0.6967177778334843, 0.0), (0.6960180834992625, 0.0), (0.694978944557878, 1.0), (0.6947146776456952, 1.0), (0.6921887406059684, 0.0), (0.6920019692746064, 1.0), (0.6904905680747495, 0.0), (0.6874442237742675, 1.0), (0.6853177450365446, 0.0), (0.6817903975346004, 1.0), (0.6745066228011721, 1.0), (0.6728934859613405, 0.0), (0.6726960467698438, 1.0), (0.6694027219588108, 0.0), (0.6674508107438666, 1.0), (0.6665999232296218, 1.0), (0.6622471849576813, 1.0), (0.6617459910157026, 1.0), (0.6606187165596981, 1.0), (0.6604073421268214, 0.0), (0.6515314590841409, 0.0), (0.6485442069094307, 1.0), (0.6432726363491421, 0.0), (0.6348173797707222, 1.0), (0.6315892629529203, 1.0), (0.6305007502504938, 1.0), (0.6303496687758126, 1.0), (0.6191676568795821, 0.0), (0.61552184586274, 1.0), (0.6106891097374127, 1.0), (0.6067130977304354, 1.0), (0.6063446935134307, 1.0), (0.5829264505584524, 1.0), (0.5791446382880616, 1.0), (0.575805262949903, 1.0), (0.5718601933225831, 1.0), (0.5707569634413846, 1.0), (0.5705591891338628, 1.0), (0.5692953828239364, 0.0), (0.5675290421079306, 0.0), (0.5624227396007222, 0.0), (0.5499443313611175, 1.0), (0.5405015995618603, 0.0), (0.5397670810873562, 0.0), (0.5279831170309122, 0.0), (0.5268719839967867, 0.0), (0.5265658555077929, 1.0), (0.5257142698351625, 1.0), (0.5208039822763436, 1.0), (0.5179001460655656, 1.0), (0.5176158559708788, 1.0), (0.5063215522798805, 0.0), (0.5044637248890032, 0.0), (0.5033163993241592, 1.0), (0.4961160405546631, 1.0), (0.49540576213931303, 0.0), (0.4947202264571548, 1.0), (0.4907071003503897, 1.0), (0.4792685850632262, 0.0), (0.4785989115395928, 1.0), (0.47352335592769373, 0.0), (0.4531684085588041, 0.0), (0.4369794002041575, 0.0), (0.4254960910749628, 1.0), (0.42487556790168773, 1.0), (0.42439065501326523, 1.0), (0.42314452607366665, 0.0), (0.4174662642904975, 1.0), (0.4164764991101548, 1.0), (0.4056720791952858, 1.0), (0.39919881049506917, 0.0), (0.39734695933997394, 1.0), (0.39131246922204793, 1.0), (0.3852981419183031, 0.0), (0.3747542188603337, 0.0), (0.3724954251453391, 1.0), (0.3580820290500613, 1.0), (0.35632803177431605, 1.0), (0.35355746003621435, 1.0), (0.3504743926046407, 0.0), (0.342544988922385, 1.0), (0.34252415587615354, 1.0), (0.3345119226830097, 1.0), (0.29662850820686476, 1.0), (0.28628230360374635, 1.0), (0.28316717673909797, 1.0), (0.2765973387709612, 1.0), (0.2742625854235945, 1.0), (0.2565994575268913, 1.0), (0.21718132336080465, 1.0), (0.21568676174121262, 1.0), (0.20192840576980253, 1.0), (0.2005535922765383, 1.0), (0.19284435982281997, 1.0), (0.16506117478731794, 1.0), (0.15551796403318016, 1.0), (0.1498288668318638, 1.0), (0.14195129442816792, 1.0), (0.0, 1.0)]\n"
          ],
          "name": "stdout"
        },
        {
          "output_type": "display_data",
          "data": {
            "image/png": "[encoded data removed]",
            "text/plain": [
              "<Figure size 432x288 with 1 Axes>"
            ]
          },
          "metadata": {
            "tags": []
          }
        }
      ]
    }
  ]
}